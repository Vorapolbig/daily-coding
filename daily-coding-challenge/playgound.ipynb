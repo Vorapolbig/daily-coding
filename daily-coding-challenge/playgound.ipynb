{
 "nbformat": 4,
 "nbformat_minor": 2,
 "metadata": {
  "language_info": {
   "name": "python",
   "codemirror_mode": {
    "name": "ipython",
    "version": 3
   },
   "version": "3.6.5-final"
  },
  "orig_nbformat": 2,
  "file_extension": ".py",
  "mimetype": "text/x-python",
  "name": "python",
  "npconvert_exporter": "python",
  "pygments_lexer": "ipython3",
  "version": 3,
  "kernelspec": {
   "name": "python36564bitbaseconda8951def34e614da9a8940d30b66d24e4",
   "display_name": "Python 3.6.5 64-bit ('base': conda)"
  }
 },
 "cells": [
  {
   "source": [
    "n = 10"
   ],
   "cell_type": "code",
   "outputs": [],
   "metadata": {},
   "execution_count": 86
  },
  {
   "source": [
    "import math\n",
    "integers = []\n",
    "if n % 2 != 0:\n",
    "    for i in range(n):\n",
    "        integers.append(i-math.floor(n/2))\n",
    "else:\n",
    "    for i in range(int(n/2)):\n",
    "        integers.append(i-(n/2))\n",
    "    for i in range(int(n/2),int(n)):\n",
    "        integers.append(i-(n/2)+1)\n",
    "    "
   ],
   "cell_type": "code",
   "outputs": [],
   "metadata": {},
   "execution_count": 92
  },
  {
   "source": [
    "A-B-C-D-E-F-G-H-I-J-K-L-M-N-O-P-Q-R-S-T-U-V-W-X-Y-Z"
   ],
   "cell_type": "code",
   "outputs": [
    {
     "output_type": "execute_result",
     "data": {
      "text/plain": "[-5.0, -4.0, -3.0, -2.0, -1.0, 1.0, 2.0, 3.0, 4.0, 5.0]"
     },
     "metadata": {},
     "execution_count": 93
    }
   ],
   "metadata": {},
   "execution_count": 93
  },
  {
   "cell_type": "code",
   "execution_count": 33,
   "metadata": {},
   "outputs": [],
   "source": [
    "alphabet = ['a','b','c','d','e','f','g','h','i','j','k','l','m','n','o','p','q','r','s','t','u','v','w','x','y','z']\n",
    "morse = [\".-\",\"-...\",\"-.-.\",\"-..\",\".\",\"..-.\",\"--.\",\"....\",\"..\",\".---\",\"-.-\",\".-..\",\"--\",\"-.\",\"---\",\".--.\",\"--.-\",\".-.\",\"...\",\"-\",\"..-\",\"...-\",\".--\",\"-..-\",\"-.--\",\"--..\"]"
   ]
  },
  {
   "cell_type": "code",
   "execution_count": 34,
   "metadata": {},
   "outputs": [
    {
     "output_type": "execute_result",
     "data": {
      "text/plain": "dict_items([('a', '.-'), ('b', '-...'), ('c', '-.-.'), ('d', '-..'), ('e', '.'), ('f', '..-.'), ('g', '--.'), ('h', '....'), ('i', '..'), ('j', '.---'), ('k', '-.-'), ('l', '.-..'), ('m', '--'), ('n', '-.'), ('o', '---'), ('p', '.--.'), ('q', '--.-'), ('r', '.-.'), ('s', '...'), ('t', '-'), ('u', '..-'), ('v', '...-'), ('w', '.--'), ('x', '-..-'), ('y', '-.--'), ('z', '--..')])"
     },
     "metadata": {},
     "execution_count": 34
    }
   ],
   "source": [
    "dict = {}\n",
    "for i in range(26):\n",
    "    dict[alphabet[i]] = morse[i]\n",
    "dict.items()"
   ]
  },
  {
   "cell_type": "code",
   "execution_count": 35,
   "metadata": {},
   "outputs": [
    {
     "output_type": "execute_result",
     "data": {
      "text/plain": "'.-'"
     },
     "metadata": {},
     "execution_count": 35
    }
   ],
   "source": [
    "dict['a']"
   ]
  },
  {
   "cell_type": "code",
   "execution_count": 36,
   "metadata": {},
   "outputs": [
    {
     "output_type": "execute_result",
     "data": {
      "text/plain": "2"
     },
     "metadata": {},
     "execution_count": 36
    }
   ],
   "source": [
    "words = [\"gin\", \"zen\", \"gig\", \"msg\"]\n",
    "decodes = []\n",
    "unique = []\n",
    "unique_set = set(unique)\n",
    "for word in words:\n",
    "    decode = \"\" \n",
    "    for letter in str(word):\n",
    "        decode += dict[letter]\n",
    "    decodes.append(decode)\n",
    "    if not word in unique_set:\n",
    "        unique.append(decode)\n",
    "        unique_set = set(unique)\n",
    "len(unique_set)"
   ]
  },
  {
   "cell_type": "code",
   "execution_count": 31,
   "metadata": {},
   "outputs": [
    {
     "output_type": "execute_result",
     "data": {
      "text/plain": "['--...-.', '--...-.', '--...--.', '.--...--.']"
     },
     "metadata": {},
     "execution_count": 31
    }
   ],
   "source": [
    "decodes"
   ]
  },
  {
   "cell_type": "code",
   "execution_count": null,
   "metadata": {},
   "outputs": [],
   "source": []
  }
 ]
}